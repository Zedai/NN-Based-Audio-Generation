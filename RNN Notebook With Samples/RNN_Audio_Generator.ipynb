{
  "nbformat": 4,
  "nbformat_minor": 0,
  "metadata": {
    "colab": {
      "provenance": [],
      "machine_shape": "hm"
    },
    "kernelspec": {
      "name": "python3",
      "display_name": "Python 3"
    },
    "language_info": {
      "name": "python"
    },
    "accelerator": "GPU",
    "gpuClass": "standard"
  },
  "cells": [
    {
      "cell_type": "code",
      "execution_count": 156,
      "metadata": {
        "id": "PhgyHa3FPprr",
        "colab": {
          "base_uri": "https://localhost:8080/"
        },
        "outputId": "cff347e0-769b-426a-9627-cceca9ff6036"
      },
      "outputs": [
        {
          "output_type": "stream",
          "name": "stderr",
          "text": [
            "<ipython-input-156-28b042529b55>:9: UserWarning: Anomaly Detection has been enabled. This mode will increase the runtime and should only be enabled for debugging.\n",
            "  torch.autograd.detect_anomaly(True)  #Was here for because of exploding gradients and trying to isolate cause of NaN\n"
          ]
        },
        {
          "output_type": "execute_result",
          "data": {
            "text/plain": [
              "<torch.autograd.anomaly_mode.detect_anomaly at 0x7f1da3b9ae20>"
            ]
          },
          "metadata": {},
          "execution_count": 156
        }
      ],
      "source": [
        "import torch\n",
        "import torch.nn as nn\n",
        "from torch import optim\n",
        "import torchaudio\n",
        "import random\n",
        "import numpy as np\n",
        "import matplotlib.pyplot as plt\n",
        "\n",
        "torch.autograd.detect_anomaly(True)  #Was here for because of exploding gradients and trying to isolate cause of NaN"
      ]
    },
    {
      "cell_type": "code",
      "source": [
        "torch.autograd.set_detect_anomaly(False)"
      ],
      "metadata": {
        "colab": {
          "base_uri": "https://localhost:8080/"
        },
        "id": "WgP9ExutfZNp",
        "outputId": "007aa2f2-5439-4256-9d96-15eb3da40d6a"
      },
      "execution_count": 78,
      "outputs": [
        {
          "output_type": "execute_result",
          "data": {
            "text/plain": [
              "<torch.autograd.anomaly_mode.set_detect_anomaly at 0x7f1db77b8d90>"
            ]
          },
          "metadata": {},
          "execution_count": 78
        }
      ]
    },
    {
      "cell_type": "code",
      "source": [
        "class AudioRNN(nn.Module):  #Model based largely off of pytorch tutorial: https://pytorch.org/tutorials/intermediate/char_rnn_classification_tutorial.html\n",
        "    def __init__(self, input_size, hidden_size, output_size):\n",
        "        super(AudioRNN, self).__init__()\n",
        "\n",
        "        self.hidden_size = hidden_size\n",
        "\n",
        "        self.hid = nn.Linear(input_size + hidden_size, hidden_size)\n",
        "        self.out = nn.Linear(input_size + hidden_size, output_size)\n",
        "       # self.softmax = nn.LogSoftmax(dim=1)\n",
        "\n",
        "    def forward(self, input, hidden):\n",
        "        combined = torch.cat((input, hidden), 1)\n",
        "        hidden = self.hid(combined)\n",
        "        output = self.out(combined)\n",
        "       # output = self.softmax(output)\n",
        "        return output, hidden\n"
      ],
      "metadata": {
        "id": "cJ2hjPFuPrWm"
      },
      "execution_count": 24,
      "outputs": []
    },
    {
      "cell_type": "code",
      "source": [
        "def preprocess(inp):\n",
        "    return preprocess(inp, 0, inp.shape[1])\n",
        "\n",
        "def preprocess(inp, start_index, length):   #This applies all preprocessing for the input\n",
        "    if inp.shape[0] == 2:       #If data is stereo, convert to mono\n",
        "      input = ((inp[0] + inp[1])/2).reshape((1, inp.shape[1]))\n",
        "    else:\n",
        "      input = inp\n",
        "\n",
        "    input = input[0][start_index:start_index + length + 1]      #Extract the data to convert\n",
        "    mu = 255\n",
        "    convData = np.sign(input)*(np.log(1 + mu * np.abs(input)))/(np.log(1+mu))   #mu law quantization\n",
        "    convData = (convData + 1) * 255 / 2\n",
        "    convData = convData.type(torch.int64)\n",
        "    inputData = np.zeros((convData.shape[0], 256))    #convert to one hot encoding\n",
        "    for i in range(inputData.shape[0]):\n",
        "        inputData[i][convData[i]] = 1\n",
        "\n",
        "    return torch.from_numpy(inputData.reshape(inputData.shape[0], 1, 256))\n"
      ],
      "metadata": {
        "id": "_kyLVxGVPtA8"
      },
      "execution_count": 25,
      "outputs": []
    },
    {
      "cell_type": "code",
      "source": [
        "def postprocess(data):    #post processing of data after passing through softmax and onehot encoding\n",
        "  unmapped = (torch.argmax(data, dim = 2) * 2 / 255) - 1    #Remap to -1 to 1\n",
        "  mu = 255\n",
        "  rawConverted = torch.sign(unmapped) * (1/mu) * (torch.pow((1 + mu), torch.abs(unmapped)) - 1)   #inverse mu law quantization\n",
        "  return rawConverted.transpose(0, 1)"
      ],
      "metadata": {
        "id": "eUjmHxWXe67r"
      },
      "execution_count": 122,
      "outputs": []
    },
    {
      "cell_type": "code",
      "source": [
        "n_hidden = 128        #Create Model\n",
        "rnn = AudioRNN(256, n_hidden, 256)\n",
        "#hidden_state = torch.zeros(1, 128)\n",
        "#output, next_hidden = rnn(inputData[0], hidden_state)\n",
        "loss_func = nn.CrossEntropyLoss()\n",
        "optimizer = optim.Adam(rnn.parameters(), lr = 0.0001, weight_decay = 0.01) \n"
      ],
      "metadata": {
        "id": "dyl6ZgJSPwBV"
      },
      "execution_count": 60,
      "outputs": []
    },
    {
      "cell_type": "markdown",
      "source": [
        "# Training"
      ],
      "metadata": {
        "id": "F5lGe1QHx63r"
      }
    },
    {
      "cell_type": "code",
      "source": [
        "y, fr  = torchaudio.load('/content/Dataset.wav')    #Load training audio file\n",
        "losses = []\n"
      ],
      "metadata": {
        "id": "ucRnMRhHPw1w"
      },
      "execution_count": 61,
      "outputs": []
    },
    {
      "cell_type": "code",
      "source": [
        "#Now we Train (Let's do random 3 second clips at a time, this is fr * 3 in length)\n",
        "training_segments = 1000\n",
        "segment_duration = 3\n",
        "\n",
        "#data = preprocess(y).cuda() CAUSES CRASHING DUE TO LARGE DATASET AND INEFFICIENT PREPROCESSING\n",
        "rnn.train()\n",
        "for i in range(training_segments):\n",
        "    print(i)\n",
        "    start_index = random.randint(0, y.shape[1] - (fr * segment_duration) - 1)     #Select random 'segment_duration' long sequences from the data\n",
        "    data = preprocess(y, start_index, fr * segment_duration).type(torch.float32)\n",
        "    hidden_state = torch.zeros(1, n_hidden)\n",
        "\n",
        "    for j in range(fr * segment_duration):    #Pass sequence to RNN to build hidden state\n",
        "        #output, hidden_state = rnn(data[j + start_index], hidden_state)\n",
        "        output, hidden_state = rnn(data[j], hidden_state)\n",
        "\n",
        "    #loss = loss(output, data[fr * segment_duration + start_index])\n",
        "    loss = loss_func(output, data[fr * segment_duration])\n",
        "    optimizer.zero_grad()\n",
        "    loss.backward()\n",
        "    nn.utils.clip_grad_norm(rnn.parameters(), 0.3)    #Gradient Clipping because of exploding gradients\n",
        "    optimizer.step()\n",
        "    print(loss.item())\n",
        "    losses.append(loss.item())\n"
      ],
      "metadata": {
        "id": "I24WCXzyPyIB",
        "colab": {
          "base_uri": "https://localhost:8080/",
          "height": 1000
        },
        "outputId": "8bddf509-9a98-4cb7-d278-8d3374ce1dcc"
      },
      "execution_count": 125,
      "outputs": [
        {
          "output_type": "stream",
          "name": "stdout",
          "text": [
            "0\n"
          ]
        },
        {
          "output_type": "stream",
          "name": "stderr",
          "text": [
            "<ipython-input-125-7e9149992051>:21: UserWarning: torch.nn.utils.clip_grad_norm is now deprecated in favor of torch.nn.utils.clip_grad_norm_.\n",
            "  nn.utils.clip_grad_norm(rnn.parameters(), 0.3)    #Gradient Clipping because of exploding gradients\n"
          ]
        },
        {
          "output_type": "stream",
          "name": "stdout",
          "text": [
            "5.553612232208252\n",
            "1\n",
            "5.5101094245910645\n",
            "2\n",
            "5.545891284942627\n",
            "3\n",
            "5.563125133514404\n",
            "4\n",
            "5.544564247131348\n",
            "5\n",
            "5.503601551055908\n",
            "6\n",
            "5.520017623901367\n",
            "7\n",
            "5.48555326461792\n",
            "8\n",
            "5.581744194030762\n",
            "9\n",
            "5.505847454071045\n",
            "10\n",
            "5.522484302520752\n",
            "11\n",
            "5.465758323669434\n",
            "12\n",
            "5.477099418640137\n",
            "13\n",
            "5.568143844604492\n",
            "14\n",
            "5.570852279663086\n",
            "15\n",
            "5.571117877960205\n",
            "16\n",
            "5.4846720695495605\n",
            "17\n",
            "5.575399875640869\n",
            "18\n",
            "5.504697799682617\n",
            "19\n",
            "5.475525856018066\n",
            "20\n",
            "5.478820323944092\n",
            "21\n",
            "5.577420234680176\n",
            "22\n",
            "5.514196872711182\n",
            "23\n",
            "5.420507907867432\n",
            "24\n",
            "5.490921974182129\n",
            "25\n",
            "5.5571980476379395\n",
            "26\n",
            "5.530087947845459\n",
            "27\n",
            "5.4860005378723145\n",
            "28\n",
            "5.573886394500732\n",
            "29\n",
            "5.552030563354492\n",
            "30\n",
            "5.558830261230469\n",
            "31\n",
            "5.5445237159729\n",
            "32\n",
            "5.564621448516846\n",
            "33\n",
            "5.571801662445068\n",
            "34\n",
            "5.4849019050598145\n",
            "35\n",
            "5.493241310119629\n",
            "36\n",
            "5.487499713897705\n",
            "37\n",
            "5.512500762939453\n",
            "38\n",
            "5.500206470489502\n",
            "39\n",
            "5.483339309692383\n",
            "40\n",
            "5.554531097412109\n",
            "41\n",
            "5.543227672576904\n",
            "42\n",
            "5.556952476501465\n",
            "43\n",
            "5.5686163902282715\n",
            "44\n",
            "5.472179412841797\n",
            "45\n",
            "5.511355400085449\n",
            "46\n",
            "5.504196643829346\n",
            "47\n",
            "5.493656158447266\n",
            "48\n",
            "5.547229766845703\n",
            "49\n",
            "5.499835014343262\n",
            "50\n",
            "5.572354793548584\n",
            "51\n",
            "5.563249588012695\n",
            "52\n",
            "5.5327348709106445\n",
            "53\n",
            "5.481547832489014\n",
            "54\n",
            "5.516777992248535\n",
            "55\n",
            "5.505827903747559\n",
            "56\n",
            "5.5471343994140625\n",
            "57\n",
            "5.476233959197998\n",
            "58\n",
            "5.52531623840332\n",
            "59\n",
            "5.570790767669678\n",
            "60\n",
            "5.563066482543945\n",
            "61\n",
            "5.460868835449219\n",
            "62\n",
            "5.47961950302124\n",
            "63\n",
            "5.519768714904785\n",
            "64\n",
            "5.511853218078613\n",
            "65\n",
            "5.519861698150635\n",
            "66\n",
            "5.490649700164795\n",
            "67\n",
            "5.583218097686768\n",
            "68\n",
            "5.467380046844482\n",
            "69\n",
            "5.538951873779297\n",
            "70\n",
            "5.523780345916748\n",
            "71\n",
            "5.5037360191345215\n",
            "72\n",
            "5.575854778289795\n",
            "73\n",
            "5.531442165374756\n",
            "74\n",
            "5.500601768493652\n",
            "75\n",
            "5.503712177276611\n",
            "76\n",
            "5.49005651473999\n",
            "77\n",
            "5.528939247131348\n",
            "78\n",
            "5.534798622131348\n",
            "79\n",
            "5.524167060852051\n",
            "80\n",
            "5.487218856811523\n",
            "81\n",
            "5.525727272033691\n",
            "82\n",
            "5.564068794250488\n",
            "83\n",
            "5.557008743286133\n",
            "84\n",
            "5.502132415771484\n",
            "85\n",
            "5.528574466705322\n",
            "86\n",
            "5.467691421508789\n",
            "87\n",
            "5.483936309814453\n",
            "88\n",
            "5.4761199951171875\n",
            "89\n",
            "5.501287460327148\n",
            "90\n",
            "5.5709075927734375\n",
            "91\n",
            "5.576876640319824\n",
            "92\n",
            "5.5611090660095215\n",
            "93\n",
            "5.498201847076416\n",
            "94\n",
            "5.569779396057129\n",
            "95\n",
            "5.526059150695801\n",
            "96\n",
            "5.529868125915527\n",
            "97\n",
            "5.464189052581787\n",
            "98\n",
            "5.53221321105957\n",
            "99\n",
            "5.558561325073242\n",
            "100\n",
            "5.557477951049805\n",
            "101\n",
            "5.47291898727417\n",
            "102\n",
            "5.5591254234313965\n",
            "103\n",
            "5.498295783996582\n",
            "104\n",
            "5.566066265106201\n",
            "105\n",
            "5.517048358917236\n",
            "106\n",
            "5.590043067932129\n",
            "107\n",
            "5.516980171203613\n",
            "108\n",
            "5.496366024017334\n",
            "109\n",
            "5.468118667602539\n",
            "110\n",
            "5.522227764129639\n",
            "111\n",
            "5.531162738800049\n",
            "112\n",
            "5.4911603927612305\n",
            "113\n",
            "5.5662522315979\n",
            "114\n",
            "5.530567646026611\n",
            "115\n",
            "5.557528495788574\n",
            "116\n",
            "5.547551155090332\n",
            "117\n",
            "5.500545978546143\n",
            "118\n",
            "5.5209503173828125\n",
            "119\n",
            "5.505037784576416\n",
            "120\n",
            "5.5467000007629395\n",
            "121\n",
            "5.536369323730469\n",
            "122\n",
            "5.496896743774414\n",
            "123\n",
            "5.511918067932129\n",
            "124\n",
            "5.520524501800537\n",
            "125\n",
            "5.532002925872803\n",
            "126\n",
            "5.488729476928711\n",
            "127\n",
            "5.46514892578125\n",
            "128\n",
            "5.562356948852539\n",
            "129\n",
            "5.545201778411865\n",
            "130\n",
            "5.568748474121094\n",
            "131\n",
            "5.568340301513672\n",
            "132\n",
            "5.57797384262085\n",
            "133\n",
            "5.5649566650390625\n",
            "134\n",
            "5.480644702911377\n",
            "135\n",
            "5.547807216644287\n",
            "136\n",
            "5.5189666748046875\n",
            "137\n",
            "5.47841215133667\n",
            "138\n",
            "5.523087978363037\n",
            "139\n",
            "5.5174641609191895\n",
            "140\n",
            "5.507164478302002\n",
            "141\n",
            "5.473794460296631\n",
            "142\n",
            "5.559376239776611\n",
            "143\n",
            "5.519927024841309\n",
            "144\n",
            "5.542536735534668\n",
            "145\n",
            "5.494266510009766\n",
            "146\n",
            "5.531506538391113\n",
            "147\n"
          ]
        },
        {
          "output_type": "error",
          "ename": "KeyboardInterrupt",
          "evalue": "ignored",
          "traceback": [
            "\u001b[0;31m---------------------------------------------------------------------------\u001b[0m",
            "\u001b[0;31mKeyboardInterrupt\u001b[0m                         Traceback (most recent call last)",
            "\u001b[0;32m<ipython-input-125-7e9149992051>\u001b[0m in \u001b[0;36m<module>\u001b[0;34m\u001b[0m\n\u001b[1;32m     18\u001b[0m     \u001b[0mloss\u001b[0m \u001b[0;34m=\u001b[0m \u001b[0mloss_func\u001b[0m\u001b[0;34m(\u001b[0m\u001b[0moutput\u001b[0m\u001b[0;34m,\u001b[0m \u001b[0mdata\u001b[0m\u001b[0;34m[\u001b[0m\u001b[0mfr\u001b[0m \u001b[0;34m*\u001b[0m \u001b[0msegment_duration\u001b[0m\u001b[0;34m]\u001b[0m\u001b[0;34m)\u001b[0m\u001b[0;34m\u001b[0m\u001b[0;34m\u001b[0m\u001b[0m\n\u001b[1;32m     19\u001b[0m     \u001b[0moptimizer\u001b[0m\u001b[0;34m.\u001b[0m\u001b[0mzero_grad\u001b[0m\u001b[0;34m(\u001b[0m\u001b[0;34m)\u001b[0m\u001b[0;34m\u001b[0m\u001b[0;34m\u001b[0m\u001b[0m\n\u001b[0;32m---> 20\u001b[0;31m     \u001b[0mloss\u001b[0m\u001b[0;34m.\u001b[0m\u001b[0mbackward\u001b[0m\u001b[0;34m(\u001b[0m\u001b[0;34m)\u001b[0m\u001b[0;34m\u001b[0m\u001b[0;34m\u001b[0m\u001b[0m\n\u001b[0m\u001b[1;32m     21\u001b[0m     \u001b[0mnn\u001b[0m\u001b[0;34m.\u001b[0m\u001b[0mutils\u001b[0m\u001b[0;34m.\u001b[0m\u001b[0mclip_grad_norm\u001b[0m\u001b[0;34m(\u001b[0m\u001b[0mrnn\u001b[0m\u001b[0;34m.\u001b[0m\u001b[0mparameters\u001b[0m\u001b[0;34m(\u001b[0m\u001b[0;34m)\u001b[0m\u001b[0;34m,\u001b[0m \u001b[0;36m0.3\u001b[0m\u001b[0;34m)\u001b[0m    \u001b[0;31m#Gradient Clipping because of exploding gradients\u001b[0m\u001b[0;34m\u001b[0m\u001b[0;34m\u001b[0m\u001b[0m\n\u001b[1;32m     22\u001b[0m     \u001b[0moptimizer\u001b[0m\u001b[0;34m.\u001b[0m\u001b[0mstep\u001b[0m\u001b[0;34m(\u001b[0m\u001b[0;34m)\u001b[0m\u001b[0;34m\u001b[0m\u001b[0;34m\u001b[0m\u001b[0m\n",
            "\u001b[0;32m/usr/local/lib/python3.8/dist-packages/torch/_tensor.py\u001b[0m in \u001b[0;36mbackward\u001b[0;34m(self, gradient, retain_graph, create_graph, inputs)\u001b[0m\n\u001b[1;32m    485\u001b[0m                 \u001b[0minputs\u001b[0m\u001b[0;34m=\u001b[0m\u001b[0minputs\u001b[0m\u001b[0;34m,\u001b[0m\u001b[0;34m\u001b[0m\u001b[0;34m\u001b[0m\u001b[0m\n\u001b[1;32m    486\u001b[0m             )\n\u001b[0;32m--> 487\u001b[0;31m         torch.autograd.backward(\n\u001b[0m\u001b[1;32m    488\u001b[0m             \u001b[0mself\u001b[0m\u001b[0;34m,\u001b[0m \u001b[0mgradient\u001b[0m\u001b[0;34m,\u001b[0m \u001b[0mretain_graph\u001b[0m\u001b[0;34m,\u001b[0m \u001b[0mcreate_graph\u001b[0m\u001b[0;34m,\u001b[0m \u001b[0minputs\u001b[0m\u001b[0;34m=\u001b[0m\u001b[0minputs\u001b[0m\u001b[0;34m\u001b[0m\u001b[0;34m\u001b[0m\u001b[0m\n\u001b[1;32m    489\u001b[0m         )\n",
            "\u001b[0;32m/usr/local/lib/python3.8/dist-packages/torch/autograd/__init__.py\u001b[0m in \u001b[0;36mbackward\u001b[0;34m(tensors, grad_tensors, retain_graph, create_graph, grad_variables, inputs)\u001b[0m\n\u001b[1;32m    195\u001b[0m     \u001b[0;31m# some Python versions print out the first line of a multi-line function\u001b[0m\u001b[0;34m\u001b[0m\u001b[0;34m\u001b[0m\u001b[0;34m\u001b[0m\u001b[0m\n\u001b[1;32m    196\u001b[0m     \u001b[0;31m# calls in the traceback and some print out the last line\u001b[0m\u001b[0;34m\u001b[0m\u001b[0;34m\u001b[0m\u001b[0;34m\u001b[0m\u001b[0m\n\u001b[0;32m--> 197\u001b[0;31m     Variable._execution_engine.run_backward(  # Calls into the C++ engine to run the backward pass\n\u001b[0m\u001b[1;32m    198\u001b[0m         \u001b[0mtensors\u001b[0m\u001b[0;34m,\u001b[0m \u001b[0mgrad_tensors_\u001b[0m\u001b[0;34m,\u001b[0m \u001b[0mretain_graph\u001b[0m\u001b[0;34m,\u001b[0m \u001b[0mcreate_graph\u001b[0m\u001b[0;34m,\u001b[0m \u001b[0minputs\u001b[0m\u001b[0;34m,\u001b[0m\u001b[0;34m\u001b[0m\u001b[0;34m\u001b[0m\u001b[0m\n\u001b[1;32m    199\u001b[0m         allow_unreachable=True, accumulate_grad=True)  # Calls into the C++ engine to run the backward pass\n",
            "\u001b[0;31mKeyboardInterrupt\u001b[0m: "
          ]
        }
      ]
    },
    {
      "cell_type": "code",
      "source": [
        "torch.save(rnn, \"trained_model\")  #Save model to load later"
      ],
      "metadata": {
        "id": "xz2c819DVLk0"
      },
      "execution_count": 126,
      "outputs": []
    },
    {
      "cell_type": "code",
      "source": [
        "plt.plot(losses)\n",
        "plt.title(\"Losses\")\n",
        "plt.ylabel(\"Loss\")\n",
        "plt.xlabel(\"Sample\")"
      ],
      "metadata": {
        "colab": {
          "base_uri": "https://localhost:8080/",
          "height": 312
        },
        "id": "2mT5TlpSDhDT",
        "outputId": "634cac43-0fb0-427d-e04d-adc8844d7427"
      },
      "execution_count": 172,
      "outputs": [
        {
          "output_type": "execute_result",
          "data": {
            "text/plain": [
              "Text(0.5, 0, 'Sample')"
            ]
          },
          "metadata": {},
          "execution_count": 172
        },
        {
          "output_type": "display_data",
          "data": {
            "text/plain": [
              "<Figure size 432x288 with 1 Axes>"
            ],
            "image/png": "[encoded data removed]"
          },
          "metadata": {
            "needs_background": "light"
          }
        }
      ]
    },
    {
      "cell_type": "markdown",
      "source": [
        "# Audio Generation"
      ],
      "metadata": {
        "id": "Lfqk2nBYgMk4"
      }
    },
    {
      "cell_type": "code",
      "source": [
        "from google.colab import files\n",
        "uploaded = files.upload()\n"
      ],
      "metadata": {
        "colab": {
          "base_uri": "https://localhost:8080/",
          "height": 73
        },
        "id": "TotuihBOgN7a",
        "outputId": "15fa89b3-9135-45a6-de31-c63f6e3ebcb6"
      },
      "execution_count": 130,
      "outputs": [
        {
          "output_type": "display_data",
          "data": {
            "text/plain": [
              "<IPython.core.display.HTML object>"
            ],
            "text/html": [
              "\n",
              "     <input type=\"file\" id=\"files-af861486-051d-466d-865a-98c343d8280a\" name=\"files[]\" multiple disabled\n",
              "        style=\"border:none\" />\n",
              "     <output id=\"result-af861486-051d-466d-865a-98c343d8280a\">\n",
              "      Upload widget is only available when the cell has been executed in the\n",
              "      current browser session. Please rerun this cell to enable.\n",
              "      </output>\n",
              "      <script>// Copyright 2017 Google LLC\n",
              "//\n",
              "// Licensed under the Apache License, Version 2.0 (the \"License\");\n",
              "// you may not use this file except in compliance with the License.\n",
              "// You may obtain a copy of the License at\n",
              "//\n",
              "//      http://www.apache.org/licenses/LICENSE-2.0\n",
              "//\n",
              "// Unless required by applicable law or agreed to in writing, software\n",
              "// distributed under the License is distributed on an \"AS IS\" BASIS,\n",
              "// WITHOUT WARRANTIES OR CONDITIONS OF ANY KIND, either express or implied.\n",
              "// See the License for the specific language governing permissions and\n",
              "// limitations under the License.\n",
              "\n",
              "/**\n",
              " * @fileoverview Helpers for google.colab Python module.\n",
              " */\n",
              "(function(scope) {\n",
              "function span(text, styleAttributes = {}) {\n",
              "  const element = document.createElement('span');\n",
              "  element.textContent = text;\n",
              "  for (const key of Object.keys(styleAttributes)) {\n",
              "    element.style[key] = styleAttributes[key];\n",
              "  }\n",
              "  return element;\n",
              "}\n",
              "\n",
              "// Max number of bytes which will be uploaded at a time.\n",
              "const MAX_PAYLOAD_SIZE = 100 * 1024;\n",
              "\n",
              "function _uploadFiles(inputId, outputId) {\n",
              "  const steps = uploadFilesStep(inputId, outputId);\n",
              "  const outputElement = document.getElementById(outputId);\n",
              "  // Cache steps on the outputElement to make it available for the next call\n",
              "  // to uploadFilesContinue from Python.\n",
              "  outputElement.steps = steps;\n",
              "\n",
              "  return _uploadFilesContinue(outputId);\n",
              "}\n",
              "\n",
              "// This is roughly an async generator (not supported in the browser yet),\n",
              "// where there are multiple asynchronous steps and the Python side is going\n",
              "// to poll for completion of each step.\n",
              "// This uses a Promise to block the python side on completion of each step,\n",
              "// then passes the result of the previous step as the input to the next step.\n",
              "function _uploadFilesContinue(outputId) {\n",
              "  const outputElement = document.getElementById(outputId);\n",
              "  const steps = outputElement.steps;\n",
              "\n",
              "  const next = steps.next(outputElement.lastPromiseValue);\n",
              "  return Promise.resolve(next.value.promise).then((value) => {\n",
              "    // Cache the last promise value to make it available to the next\n",
              "    // step of the generator.\n",
              "    outputElement.lastPromiseValue = value;\n",
              "    return next.value.response;\n",
              "  });\n",
              "}\n",
              "\n",
              "/**\n",
              " * Generator function which is called between each async step of the upload\n",
              " * process.\n",
              " * @param {string} inputId Element ID of the input file picker element.\n",
              " * @param {string} outputId Element ID of the output display.\n",
              " * @return {!Iterable<!Object>} Iterable of next steps.\n",
              " */\n",
              "function* uploadFilesStep(inputId, outputId) {\n",
              "  const inputElement = document.getElementById(inputId);\n",
              "  inputElement.disabled = false;\n",
              "\n",
              "  const outputElement = document.getElementById(outputId);\n",
              "  outputElement.innerHTML = '';\n",
              "\n",
              "  const pickedPromise = new Promise((resolve) => {\n",
              "    inputElement.addEventListener('change', (e) => {\n",
              "      resolve(e.target.files);\n",
              "    });\n",
              "  });\n",
              "\n",
              "  const cancel = document.createElement('button');\n",
              "  inputElement.parentElement.appendChild(cancel);\n",
              "  cancel.textContent = 'Cancel upload';\n",
              "  const cancelPromise = new Promise((resolve) => {\n",
              "    cancel.onclick = () => {\n",
              "      resolve(null);\n",
              "    };\n",
              "  });\n",
              "\n",
              "  // Wait for the user to pick the files.\n",
              "  const files = yield {\n",
              "    promise: Promise.race([pickedPromise, cancelPromise]),\n",
              "    response: {\n",
              "      action: 'starting',\n",
              "    }\n",
              "  };\n",
              "\n",
              "  cancel.remove();\n",
              "\n",
              "  // Disable the input element since further picks are not allowed.\n",
              "  inputElement.disabled = true;\n",
              "\n",
              "  if (!files) {\n",
              "    return {\n",
              "      response: {\n",
              "        action: 'complete',\n",
              "      }\n",
              "    };\n",
              "  }\n",
              "\n",
              "  for (const file of files) {\n",
              "    const li = document.createElement('li');\n",
              "    li.append(span(file.name, {fontWeight: 'bold'}));\n",
              "    li.append(span(\n",
              "        `(${file.type || 'n/a'}) - ${file.size} bytes, ` +\n",
              "        `last modified: ${\n",
              "            file.lastModifiedDate ? file.lastModifiedDate.toLocaleDateString() :\n",
              "                                    'n/a'} - `));\n",
              "    const percent = span('0% done');\n",
              "    li.appendChild(percent);\n",
              "\n",
              "    outputElement.appendChild(li);\n",
              "\n",
              "    const fileDataPromise = new Promise((resolve) => {\n",
              "      const reader = new FileReader();\n",
              "      reader.onload = (e) => {\n",
              "        resolve(e.target.result);\n",
              "      };\n",
              "      reader.readAsArrayBuffer(file);\n",
              "    });\n",
              "    // Wait for the data to be ready.\n",
              "    let fileData = yield {\n",
              "      promise: fileDataPromise,\n",
              "      response: {\n",
              "        action: 'continue',\n",
              "      }\n",
              "    };\n",
              "\n",
              "    // Use a chunked sending to avoid message size limits. See b/62115660.\n",
              "    let position = 0;\n",
              "    do {\n",
              "      const length = Math.min(fileData.byteLength - position, MAX_PAYLOAD_SIZE);\n",
              "      const chunk = new Uint8Array(fileData, position, length);\n",
              "      position += length;\n",
              "\n",
              "      const base64 = btoa(String.fromCharCode.apply(null, chunk));\n",
              "      yield {\n",
              "        response: {\n",
              "          action: 'append',\n",
              "          file: file.name,\n",
              "          data: base64,\n",
              "        },\n",
              "      };\n",
              "\n",
              "      let percentDone = fileData.byteLength === 0 ?\n",
              "          100 :\n",
              "          Math.round((position / fileData.byteLength) * 100);\n",
              "      percent.textContent = `${percentDone}% done`;\n",
              "\n",
              "    } while (position < fileData.byteLength);\n",
              "  }\n",
              "\n",
              "  // All done.\n",
              "  yield {\n",
              "    response: {\n",
              "      action: 'complete',\n",
              "    }\n",
              "  };\n",
              "}\n",
              "\n",
              "scope.google = scope.google || {};\n",
              "scope.google.colab = scope.google.colab || {};\n",
              "scope.google.colab._files = {\n",
              "  _uploadFiles,\n",
              "  _uploadFilesContinue,\n",
              "};\n",
              "})(self);\n",
              "</script> "
            ]
          },
          "metadata": {}
        },
        {
          "output_type": "stream",
          "name": "stdout",
          "text": [
            "Saving Dataset.wav to Dataset (1).wav\n"
          ]
        }
      ]
    },
    {
      "cell_type": "code",
      "source": [
        "y, fr  = torchaudio.load('/content/Dataset.wav')"
      ],
      "metadata": {
        "id": "IRX19T26DFs4"
      },
      "execution_count": null,
      "outputs": []
    },
    {
      "cell_type": "code",
      "source": [
        "data = preprocess(y, 50*fr, 5*fr).type(torch.float32)"
      ],
      "metadata": {
        "id": "TLJYp7jQr9yc"
      },
      "execution_count": 150,
      "outputs": []
    },
    {
      "cell_type": "code",
      "source": [
        "#checkpoint = torch.load(\"final\")\n",
        "#rnn = AudioRNN(256, n_hidden, 256)\n",
        "#rnn = (checkpoint)\n"
      ],
      "metadata": {
        "id": "iVqIPYqrtxgW"
      },
      "execution_count": 103,
      "outputs": []
    },
    {
      "cell_type": "code",
      "source": [
        "rnn = torch.load(\"trained_model\") #Can be found in github repo\n",
        "rnn.eval()\n",
        "n = nn.Softmax()\n",
        "hidden_state = torch.zeros(1, n_hidden)\n",
        "out = None\n",
        "genLength = 5 #seconds of audio to generate\n",
        "genData = torch.zeros((fr*genLength + 1, 1, 256))\n",
        "\n",
        "for i in range(data.shape[0]):    #Build hidden_state from input data\n",
        "  out, hidden_state = rnn(data[i], hidden_state)\n",
        "  oneHotOut = torch.zeros((1, 256))\n",
        "  oneHotOut[0][n(out).argmax()] = 1\n",
        "  genData[0] = oneHotOut\n",
        "\n",
        "for i in range(fr * genLength):\n",
        "  out, hidden_state = rnn(data[i], hidden_state)\n",
        "  oneHotOut = torch.zeros((1, 256))\n",
        "  oneHotOut[0][n(out).argmax()] = 1\n",
        "\n",
        "  genData[i + 1] = oneHotOut\n",
        "  out = oneHotOut\n",
        "\n",
        "\n"
      ],
      "metadata": {
        "colab": {
          "base_uri": "https://localhost:8080/"
        },
        "id": "IdW4a6JEgkR7",
        "outputId": "916f433e-3a17-46f1-98fd-745fc243cf05"
      },
      "execution_count": 168,
      "outputs": [
        {
          "output_type": "stream",
          "name": "stderr",
          "text": [
            "<ipython-input-168-4bfb13eb2758>:12: UserWarning: Implicit dimension choice for softmax has been deprecated. Change the call to include dim=X as an argument.\n",
            "  oneHotOut[0][n(out).argmax()] = 1\n",
            "<ipython-input-168-4bfb13eb2758>:18: UserWarning: Implicit dimension choice for softmax has been deprecated. Change the call to include dim=X as an argument.\n",
            "  oneHotOut[0][n(out).argmax()] = 1\n"
          ]
        }
      ]
    },
    {
      "cell_type": "code",
      "source": [
        "torchaudio.save(f'InputCatGenOutput.wav', postprocess(torch.cat((data, genData))), sample_rate=fr)\n"
      ],
      "metadata": {
        "id": "c4mxI42suKkR"
      },
      "execution_count": 169,
      "outputs": []
    }
  ]
}